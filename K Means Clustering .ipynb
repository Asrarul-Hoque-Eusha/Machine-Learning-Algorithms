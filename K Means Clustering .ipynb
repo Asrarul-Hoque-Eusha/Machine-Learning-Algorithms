{
  "nbformat": 4,
  "nbformat_minor": 0,
  "metadata": {
    "colab": {
      "provenance": []
    },
    "kernelspec": {
      "name": "python3",
      "display_name": "Python 3"
    },
    "language_info": {
      "name": "python"
    }
  },
  "cells": [
    {
      "cell_type": "code",
      "execution_count": null,
      "metadata": {
        "id": "XZ7A1VmSiYH8"
      },
      "outputs": [],
      "source": [
        "import numpy as np\n",
        "import math\n",
        "import matplotlib.pyplot as plt\n",
        "import pandas as pd\n",
        "%matplotlib inline"
      ]
    },
    {
      "cell_type": "code",
      "source": [
        "df=pd.read_csv(\"Cluster_data.csv\")\n",
        "df.head()"
      ],
      "metadata": {
        "colab": {
          "base_uri": "https://localhost:8080/",
          "height": 206
        },
        "id": "hjsdxkG0mu5R",
        "outputId": "6756a23e-6ad0-44b8-e0ec-86a7f336a912"
      },
      "execution_count": null,
      "outputs": [
        {
          "output_type": "execute_result",
          "data": {
            "text/plain": [
              "   No.   X   Y\n",
              "0    1   1   0\n",
              "1    2  10  13\n",
              "2    3  12   3\n",
              "3    4   2  15\n",
              "4    5   1   8"
            ],
            "text/html": [
              "\n",
              "  <div id=\"df-4bd8b408-b826-4557-b9d4-662fe4457bb3\" class=\"colab-df-container\">\n",
              "    <div>\n",
              "<style scoped>\n",
              "    .dataframe tbody tr th:only-of-type {\n",
              "        vertical-align: middle;\n",
              "    }\n",
              "\n",
              "    .dataframe tbody tr th {\n",
              "        vertical-align: top;\n",
              "    }\n",
              "\n",
              "    .dataframe thead th {\n",
              "        text-align: right;\n",
              "    }\n",
              "</style>\n",
              "<table border=\"1\" class=\"dataframe\">\n",
              "  <thead>\n",
              "    <tr style=\"text-align: right;\">\n",
              "      <th></th>\n",
              "      <th>No.</th>\n",
              "      <th>X</th>\n",
              "      <th>Y</th>\n",
              "    </tr>\n",
              "  </thead>\n",
              "  <tbody>\n",
              "    <tr>\n",
              "      <th>0</th>\n",
              "      <td>1</td>\n",
              "      <td>1</td>\n",
              "      <td>0</td>\n",
              "    </tr>\n",
              "    <tr>\n",
              "      <th>1</th>\n",
              "      <td>2</td>\n",
              "      <td>10</td>\n",
              "      <td>13</td>\n",
              "    </tr>\n",
              "    <tr>\n",
              "      <th>2</th>\n",
              "      <td>3</td>\n",
              "      <td>12</td>\n",
              "      <td>3</td>\n",
              "    </tr>\n",
              "    <tr>\n",
              "      <th>3</th>\n",
              "      <td>4</td>\n",
              "      <td>2</td>\n",
              "      <td>15</td>\n",
              "    </tr>\n",
              "    <tr>\n",
              "      <th>4</th>\n",
              "      <td>5</td>\n",
              "      <td>1</td>\n",
              "      <td>8</td>\n",
              "    </tr>\n",
              "  </tbody>\n",
              "</table>\n",
              "</div>\n",
              "    <div class=\"colab-df-buttons\">\n",
              "\n",
              "  <div class=\"colab-df-container\">\n",
              "    <button class=\"colab-df-convert\" onclick=\"convertToInteractive('df-4bd8b408-b826-4557-b9d4-662fe4457bb3')\"\n",
              "            title=\"Convert this dataframe to an interactive table.\"\n",
              "            style=\"display:none;\">\n",
              "\n",
              "  <svg xmlns=\"http://www.w3.org/2000/svg\" height=\"24px\" viewBox=\"0 -960 960 960\">\n",
              "    <path d=\"M120-120v-720h720v720H120Zm60-500h600v-160H180v160Zm220 220h160v-160H400v160Zm0 220h160v-160H400v160ZM180-400h160v-160H180v160Zm440 0h160v-160H620v160ZM180-180h160v-160H180v160Zm440 0h160v-160H620v160Z\"/>\n",
              "  </svg>\n",
              "    </button>\n",
              "\n",
              "  <style>\n",
              "    .colab-df-container {\n",
              "      display:flex;\n",
              "      gap: 12px;\n",
              "    }\n",
              "\n",
              "    .colab-df-convert {\n",
              "      background-color: #E8F0FE;\n",
              "      border: none;\n",
              "      border-radius: 50%;\n",
              "      cursor: pointer;\n",
              "      display: none;\n",
              "      fill: #1967D2;\n",
              "      height: 32px;\n",
              "      padding: 0 0 0 0;\n",
              "      width: 32px;\n",
              "    }\n",
              "\n",
              "    .colab-df-convert:hover {\n",
              "      background-color: #E2EBFA;\n",
              "      box-shadow: 0px 1px 2px rgba(60, 64, 67, 0.3), 0px 1px 3px 1px rgba(60, 64, 67, 0.15);\n",
              "      fill: #174EA6;\n",
              "    }\n",
              "\n",
              "    .colab-df-buttons div {\n",
              "      margin-bottom: 4px;\n",
              "    }\n",
              "\n",
              "    [theme=dark] .colab-df-convert {\n",
              "      background-color: #3B4455;\n",
              "      fill: #D2E3FC;\n",
              "    }\n",
              "\n",
              "    [theme=dark] .colab-df-convert:hover {\n",
              "      background-color: #434B5C;\n",
              "      box-shadow: 0px 1px 3px 1px rgba(0, 0, 0, 0.15);\n",
              "      filter: drop-shadow(0px 1px 2px rgba(0, 0, 0, 0.3));\n",
              "      fill: #FFFFFF;\n",
              "    }\n",
              "  </style>\n",
              "\n",
              "    <script>\n",
              "      const buttonEl =\n",
              "        document.querySelector('#df-4bd8b408-b826-4557-b9d4-662fe4457bb3 button.colab-df-convert');\n",
              "      buttonEl.style.display =\n",
              "        google.colab.kernel.accessAllowed ? 'block' : 'none';\n",
              "\n",
              "      async function convertToInteractive(key) {\n",
              "        const element = document.querySelector('#df-4bd8b408-b826-4557-b9d4-662fe4457bb3');\n",
              "        const dataTable =\n",
              "          await google.colab.kernel.invokeFunction('convertToInteractive',\n",
              "                                                    [key], {});\n",
              "        if (!dataTable) return;\n",
              "\n",
              "        const docLinkHtml = 'Like what you see? Visit the ' +\n",
              "          '<a target=\"_blank\" href=https://colab.research.google.com/notebooks/data_table.ipynb>data table notebook</a>'\n",
              "          + ' to learn more about interactive tables.';\n",
              "        element.innerHTML = '';\n",
              "        dataTable['output_type'] = 'display_data';\n",
              "        await google.colab.output.renderOutput(dataTable, element);\n",
              "        const docLink = document.createElement('div');\n",
              "        docLink.innerHTML = docLinkHtml;\n",
              "        element.appendChild(docLink);\n",
              "      }\n",
              "    </script>\n",
              "  </div>\n",
              "\n",
              "\n",
              "<div id=\"df-a9c6ece5-8051-4fe0-8d30-4564670b720c\">\n",
              "  <button class=\"colab-df-quickchart\" onclick=\"quickchart('df-a9c6ece5-8051-4fe0-8d30-4564670b720c')\"\n",
              "            title=\"Suggest charts.\"\n",
              "            style=\"display:none;\">\n",
              "\n",
              "<svg xmlns=\"http://www.w3.org/2000/svg\" height=\"24px\"viewBox=\"0 0 24 24\"\n",
              "     width=\"24px\">\n",
              "    <g>\n",
              "        <path d=\"M19 3H5c-1.1 0-2 .9-2 2v14c0 1.1.9 2 2 2h14c1.1 0 2-.9 2-2V5c0-1.1-.9-2-2-2zM9 17H7v-7h2v7zm4 0h-2V7h2v10zm4 0h-2v-4h2v4z\"/>\n",
              "    </g>\n",
              "</svg>\n",
              "  </button>\n",
              "\n",
              "<style>\n",
              "  .colab-df-quickchart {\n",
              "    background-color: #E8F0FE;\n",
              "    border: none;\n",
              "    border-radius: 50%;\n",
              "    cursor: pointer;\n",
              "    display: none;\n",
              "    fill: #1967D2;\n",
              "    height: 32px;\n",
              "    padding: 0 0 0 0;\n",
              "    width: 32px;\n",
              "  }\n",
              "\n",
              "  .colab-df-quickchart:hover {\n",
              "    background-color: #E2EBFA;\n",
              "    box-shadow: 0px 1px 2px rgba(60, 64, 67, 0.3), 0px 1px 3px 1px rgba(60, 64, 67, 0.15);\n",
              "    fill: #174EA6;\n",
              "  }\n",
              "\n",
              "  [theme=dark] .colab-df-quickchart {\n",
              "    background-color: #3B4455;\n",
              "    fill: #D2E3FC;\n",
              "  }\n",
              "\n",
              "  [theme=dark] .colab-df-quickchart:hover {\n",
              "    background-color: #434B5C;\n",
              "    box-shadow: 0px 1px 3px 1px rgba(0, 0, 0, 0.15);\n",
              "    filter: drop-shadow(0px 1px 2px rgba(0, 0, 0, 0.3));\n",
              "    fill: #FFFFFF;\n",
              "  }\n",
              "</style>\n",
              "\n",
              "  <script>\n",
              "    async function quickchart(key) {\n",
              "      const charts = await google.colab.kernel.invokeFunction(\n",
              "          'suggestCharts', [key], {});\n",
              "    }\n",
              "    (() => {\n",
              "      let quickchartButtonEl =\n",
              "        document.querySelector('#df-a9c6ece5-8051-4fe0-8d30-4564670b720c button');\n",
              "      quickchartButtonEl.style.display =\n",
              "        google.colab.kernel.accessAllowed ? 'block' : 'none';\n",
              "    })();\n",
              "  </script>\n",
              "</div>\n",
              "    </div>\n",
              "  </div>\n"
            ]
          },
          "metadata": {},
          "execution_count": 144
        }
      ]
    },
    {
      "cell_type": "code",
      "source": [
        "k=int(input(\"Input Number of Clusters\"))"
      ],
      "metadata": {
        "colab": {
          "base_uri": "https://localhost:8080/"
        },
        "id": "BVVDU0JWm5rE",
        "outputId": "576c7646-9798-468a-c778-35dcf5cc9062"
      },
      "execution_count": null,
      "outputs": [
        {
          "name": "stdout",
          "output_type": "stream",
          "text": [
            "Input Number of Clusters3\n"
          ]
        }
      ]
    },
    {
      "cell_type": "code",
      "source": [
        "X=np.array(df[\"X\"])\n",
        "Y=np.array(df[\"Y\"])\n",
        "plt.plot(X,Y,'+')\n",
        "plt.show()"
      ],
      "metadata": {
        "colab": {
          "base_uri": "https://localhost:8080/",
          "height": 430
        },
        "id": "kaEnGSjsnpVC",
        "outputId": "afa0c8e8-faf5-4e93-b7a3-1b3ba91fcea7"
      },
      "execution_count": null,
      "outputs": [
        {
          "output_type": "display_data",
          "data": {
            "text/plain": [
              "<Figure size 640x480 with 1 Axes>"
            ],
            "image/png": "[encoded data removed]"
          },
          "metadata": {}
        }
      ]
    },
    {
      "cell_type": "code",
      "source": [
        "centX=X[:k]\n",
        "centY=Y[:k]\n",
        "print(centX)\n",
        "print(centY)"
      ],
      "metadata": {
        "colab": {
          "base_uri": "https://localhost:8080/"
        },
        "id": "yJ7HS-VuoFzj",
        "outputId": "4d827ff1-f093-4c40-fc6f-0104ede5a7b3"
      },
      "execution_count": null,
      "outputs": [
        {
          "output_type": "stream",
          "name": "stdout",
          "text": [
            "[ 1 10 12]\n",
            "[ 0 13  3]\n"
          ]
        }
      ]
    },
    {
      "cell_type": "code",
      "source": [
        "colors=['r','g','b','m','c','y','k','w','r','g']\n",
        "def plot_data(x,y,centx,centy,sel):\n",
        "  marker=[]\n",
        "  col=[]\n",
        "  n,_=df.shape\n",
        "  #col=[]\n",
        "  m=len(centx)\n",
        "  for i in range(n):\n",
        "    if x[i] in centx:\n",
        "       if y[i] in centy:\n",
        "          marker.append(\"*\")\n",
        "       else:\n",
        "         marker.append(\"+\")\n",
        "    else:\n",
        "      marker.append(\"+\")\n",
        "    col.append(colors[int(sel[i])])\n",
        "  for j in range(n):\n",
        "    plt.plot(x[j],y[j],marker[j],c=col[j])###\n",
        "  plt.plot(centx,centy,'*',c=col[j])\n",
        "  plt.show()\n",
        "  print(centx)\n",
        "  print(\"plot\")"
      ],
      "metadata": {
        "id": "tbBHfH66pzAx"
      },
      "execution_count": null,
      "outputs": []
    },
    {
      "cell_type": "code",
      "source": [
        "ss=np.zeros(df.shape[0])\n",
        "print(centX)\n",
        "print(centY)\n",
        "plot_data(X,Y,centX,centY,ss)"
      ],
      "metadata": {
        "colab": {
          "base_uri": "https://localhost:8080/",
          "height": 499
        },
        "id": "UB7aXp7nr9Cc",
        "outputId": "b3e4b644-2b9b-4c4d-a271-d8ceddc2f22a"
      },
      "execution_count": null,
      "outputs": [
        {
          "output_type": "stream",
          "name": "stdout",
          "text": [
            "[ 1 10 12]\n",
            "[ 0 13  3]\n"
          ]
        },
        {
          "output_type": "display_data",
          "data": {
            "text/plain": [
              "<Figure size 640x480 with 1 Axes>"
            ],
            "image/png": "[encoded data removed]"
          },
          "metadata": {}
        },
        {
          "output_type": "stream",
          "name": "stdout",
          "text": [
            "[ 1 10 12]\n",
            "plot\n"
          ]
        }
      ]
    },
    {
      "cell_type": "code",
      "source": [
        "centTX =[]\n",
        "centTY=[]\n",
        "def find_dis(x,y,centx,centy):\n",
        "  curr=np.zeros((df.shape[0],k))\n",
        "  for i in range(df.shape[0]):\n",
        "    for j in range(k):\n",
        "      curr[i,j]=np.sqrt((x[i]-centx[j])**2+(y[i]-centy[j])**2)\n",
        "  print(curr)\n",
        "  sel=np.zeros((df.shape[0]))\n",
        "  for i in range(df.shape[0]):\n",
        "    mn=100000\n",
        "    ind=0\n",
        "    for j in range(k):\n",
        "      if mn>curr[i,j]:\n",
        "        ind=j\n",
        "        mn=curr[i,j]\n",
        "    sel[i]=ind\n",
        "  print(sel)\n",
        "  xx=[]\n",
        "  yy=[]\n",
        "  for i in range(k):\n",
        "    sumx=0\n",
        "    sumy=0\n",
        "    cnt=0\n",
        "    for j in range(df.shape[0]):\n",
        "      if sel[j]==i:\n",
        "        sumx=sumx+x[j]\n",
        "        sumy=sumy+y[j]\n",
        "        cnt+=1\n",
        "    if cnt>0:\n",
        "      xx.append(sumx/cnt)\n",
        "      yy.append(sumy/cnt)\n",
        "  return xx,yy,sel\n",
        "  centX=xx\n",
        "  centY=yy\n",
        "  print(centTX)\n",
        "  print(centTY)"
      ],
      "metadata": {
        "id": "eGPQkM9qsEbs"
      },
      "execution_count": null,
      "outputs": []
    },
    {
      "cell_type": "code",
      "source": [
        "print(centX)\n",
        "#colors=['r','g','b','m','c','y','k','w','r','g']####\n",
        "for i in range(10):\n",
        "  centTX,centTY,sel=find_dis(X,Y,centX,centY)\n",
        "  #if centX==centTX & centY==centTY:\n",
        "   # break\n",
        "  print(centTX)\n",
        "  centX=centTX\n",
        "  centY=centTY\n",
        "  plot_data(X,Y,centX,centY,sel)#####\n"
      ],
      "metadata": {
        "colab": {
          "base_uri": "https://localhost:8080/",
          "height": 1000
        },
        "id": "hQxyYIPPtayq",
        "outputId": "8200742b-3a71-40a0-8e63-8ba1ebbc6159"
      },
      "execution_count": null,
      "outputs": [
        {
          "output_type": "stream",
          "name": "stdout",
          "text": [
            "[ 1 10 12]\n",
            "[[ 0.         15.8113883  11.40175425]\n",
            " [15.8113883   0.         10.19803903]\n",
            " [11.40175425 10.19803903  0.        ]\n",
            " [15.03329638  8.24621125 15.62049935]\n",
            " [ 8.         10.29563014 12.08304597]\n",
            " [10.63014581  6.08276253  5.        ]\n",
            " [14.86606875  2.23606798  8.06225775]\n",
            " [14.14213562 12.08304597  3.16227766]\n",
            " [21.09502311 10.63014581 20.1246118 ]\n",
            " [25.05992817 13.03840481 14.2126704 ]\n",
            " [20.         17.02938637  9.48683298]\n",
            " [ 2.23606798 13.60147051 10.04987562]\n",
            " [ 5.83095189 10.          8.24621125]\n",
            " [28.31960452 12.80624847 19.6977156 ]\n",
            " [20.88061302 13.03840481  9.48683298]]\n",
            "[0. 1. 2. 1. 0. 2. 1. 2. 1. 1. 2. 0. 0. 1. 2.]\n",
            "[2.0, 11.5, 15.6]\n"
          ]
        },
        {
          "output_type": "display_data",
          "data": {
            "text/plain": [
              "<Figure size 640x480 with 1 Axes>"
            ],
            "image/png": "[encoded data removed]"
          },
          "metadata": {}
        },
        {
          "output_type": "stream",
          "name": "stdout",
          "text": [
            "[2.0, 11.5, 15.6]\n",
            "plot\n",
            "[[ 3.88104367 18.72164523 15.03728699]\n",
            " [12.22957481  2.91547595 10.94166349]\n",
            " [10.02808556 12.509996    3.64965752]\n",
            " [11.25        9.5131488  17.74598546]\n",
            " [ 4.3660623  12.9034879  15.24860649]\n",
            " [ 7.71767452  8.86002257  7.42428448]\n",
            " [11.55692433  4.52769257  8.71320836]\n",
            " [13.11725962 13.94632568  1.70880075]\n",
            " [17.2789612  10.12422837 21.48301655]\n",
            " [22.56241343 12.02081528 11.19464158]\n",
            " [19.36653041 18.17965896  6.4899923 ]\n",
            " [ 1.75       16.50757402 13.69379421]\n",
            " [ 2.35849528 12.9034879  11.68417734]\n",
            " [24.93115521 10.12422837 17.9477018 ]\n",
            " [19.13275986 13.43502884  5.90931468]]\n",
            "[0. 1. 2. 1. 0. 2. 1. 2. 1. 2. 2. 0. 0. 1. 2.]\n",
            "[2.0, 9.2, 16.833333333333332]\n"
          ]
        },
        {
          "output_type": "display_data",
          "data": {
            "text/plain": [
              "<Figure size 640x480 with 1 Axes>"
            ],
            "image/png": "[encoded data removed]"
          },
          "metadata": {}
        },
        {
          "output_type": "stream",
          "name": "stdout",
          "text": [
            "[2.0, 9.2, 16.833333333333332]\n",
            "plot\n",
            "[[ 3.88104367 18.15709228 16.60404904]\n",
            " [12.22957481  3.2984845  10.52114273]\n",
            " [10.02808556 13.49370223  5.23078494]\n",
            " [11.25        7.29931504 17.88932022]\n",
            " [ 4.3660623  11.59655121 16.11503784]\n",
            " [ 7.71767452  9.20217366  8.08462189]\n",
            " [11.55692433  5.5027266   8.36826014]\n",
            " [13.11725962 15.33883959  3.51583718]\n",
            " [17.2789612   7.84091831 21.15091277]\n",
            " [22.56241343 14.42497834  9.32886798]\n",
            " [19.36653041 20.04195599  6.5085414 ]\n",
            " [ 1.75       15.92105524 15.13366373]\n",
            " [ 2.35849528 12.34827923 12.83333333]\n",
            " [24.93115521 11.81862936 16.31035799]\n",
            " [19.13275986 15.59743569  4.28498671]]\n",
            "[0. 1. 2. 1. 0. 0. 1. 2. 1. 2. 2. 0. 0. 1. 2.]\n",
            "[3.4, 9.2, 18.4]\n"
          ]
        },
        {
          "output_type": "display_data",
          "data": {
            "text/plain": [
              "<Figure size 640x480 with 1 Axes>"
            ],
            "image/png": "[encoded data removed]"
          },
          "metadata": {}
        },
        {
          "output_type": "stream",
          "name": "stdout",
          "text": [
            "[3.4, 9.2, 18.4]\n",
            "plot\n",
            "[[ 5.01198563 18.15709228 17.99777764]\n",
            " [10.84066419  3.2984845  11.87939392]\n",
            " [ 8.71320836 13.49370223  6.596969  ]\n",
            " [10.69205312  7.29931504 19.41957775]\n",
            " [ 4.32666153 11.59655121 17.72907217]\n",
            " [ 6.17413962  9.20217366  9.70154627]\n",
            " [10.06578363  5.5027266   9.78365985]\n",
            " [11.84567432 15.33883959  4.28018691]\n",
            " [16.60481858  7.84091831 22.49711093]\n",
            " [21.02189335 14.42497834  8.71320836]\n",
            " [18.14166475 20.04195599  5.28393793]\n",
            " [ 2.7784888  15.92105524 16.60481858]\n",
            " [ 0.84852814 12.34827923 14.40555448]\n",
            " [23.47594514 11.81862936 16.47786394]\n",
            " [17.67257763 15.59743569  2.95296461]]\n",
            "[0. 1. 2. 1. 0. 0. 1. 2. 1. 2. 2. 0. 0. 1. 2.]\n",
            "[3.4, 9.2, 18.4]\n"
          ]
        },
        {
          "output_type": "display_data",
          "data": {
            "text/plain": [
              "<Figure size 640x480 with 1 Axes>"
            ],
            "image/png": "[encoded data removed]"
          },
          "metadata": {}
        },
        {
          "output_type": "stream",
          "name": "stdout",
          "text": [
            "[3.4, 9.2, 18.4]\n",
            "plot\n",
            "[[ 5.01198563 18.15709228 17.99777764]\n",
            " [10.84066419  3.2984845  11.87939392]\n",
            " [ 8.71320836 13.49370223  6.596969  ]\n",
            " [10.69205312  7.29931504 19.41957775]\n",
            " [ 4.32666153 11.59655121 17.72907217]\n",
            " [ 6.17413962  9.20217366  9.70154627]\n",
            " [10.06578363  5.5027266   9.78365985]\n",
            " [11.84567432 15.33883959  4.28018691]\n",
            " [16.60481858  7.84091831 22.49711093]\n",
            " [21.02189335 14.42497834  8.71320836]\n",
            " [18.14166475 20.04195599  5.28393793]\n",
            " [ 2.7784888  15.92105524 16.60481858]\n",
            " [ 0.84852814 12.34827923 14.40555448]\n",
            " [23.47594514 11.81862936 16.47786394]\n",
            " [17.67257763 15.59743569  2.95296461]]\n",
            "[0. 1. 2. 1. 0. 0. 1. 2. 1. 2. 2. 0. 0. 1. 2.]\n",
            "[3.4, 9.2, 18.4]\n"
          ]
        },
        {
          "output_type": "display_data",
          "data": {
            "text/plain": [
              "<Figure size 640x480 with 1 Axes>"
            ],
            "image/png": "[encoded data removed]"
          },
          "metadata": {}
        },
        {
          "output_type": "stream",
          "name": "stdout",
          "text": [
            "[3.4, 9.2, 18.4]\n",
            "plot\n",
            "[[ 5.01198563 18.15709228 17.99777764]\n",
            " [10.84066419  3.2984845  11.87939392]\n",
            " [ 8.71320836 13.49370223  6.596969  ]\n",
            " [10.69205312  7.29931504 19.41957775]\n",
            " [ 4.32666153 11.59655121 17.72907217]\n",
            " [ 6.17413962  9.20217366  9.70154627]\n",
            " [10.06578363  5.5027266   9.78365985]\n",
            " [11.84567432 15.33883959  4.28018691]\n",
            " [16.60481858  7.84091831 22.49711093]\n",
            " [21.02189335 14.42497834  8.71320836]\n",
            " [18.14166475 20.04195599  5.28393793]\n",
            " [ 2.7784888  15.92105524 16.60481858]\n",
            " [ 0.84852814 12.34827923 14.40555448]\n",
            " [23.47594514 11.81862936 16.47786394]\n",
            " [17.67257763 15.59743569  2.95296461]]\n",
            "[0. 1. 2. 1. 0. 0. 1. 2. 1. 2. 2. 0. 0. 1. 2.]\n",
            "[3.4, 9.2, 18.4]\n"
          ]
        },
        {
          "output_type": "display_data",
          "data": {
            "text/plain": [
              "<Figure size 640x480 with 1 Axes>"
            ],
            "image/png": "[encoded data removed]"
          },
          "metadata": {}
        },
        {
          "output_type": "stream",
          "name": "stdout",
          "text": [
            "[3.4, 9.2, 18.4]\n",
            "plot\n",
            "[[ 5.01198563 18.15709228 17.99777764]\n",
            " [10.84066419  3.2984845  11.87939392]\n",
            " [ 8.71320836 13.49370223  6.596969  ]\n",
            " [10.69205312  7.29931504 19.41957775]\n",
            " [ 4.32666153 11.59655121 17.72907217]\n",
            " [ 6.17413962  9.20217366  9.70154627]\n",
            " [10.06578363  5.5027266   9.78365985]\n",
            " [11.84567432 15.33883959  4.28018691]\n",
            " [16.60481858  7.84091831 22.49711093]\n",
            " [21.02189335 14.42497834  8.71320836]\n",
            " [18.14166475 20.04195599  5.28393793]\n",
            " [ 2.7784888  15.92105524 16.60481858]\n",
            " [ 0.84852814 12.34827923 14.40555448]\n",
            " [23.47594514 11.81862936 16.47786394]\n",
            " [17.67257763 15.59743569  2.95296461]]\n",
            "[0. 1. 2. 1. 0. 0. 1. 2. 1. 2. 2. 0. 0. 1. 2.]\n",
            "[3.4, 9.2, 18.4]\n"
          ]
        },
        {
          "output_type": "display_data",
          "data": {
            "text/plain": [
              "<Figure size 640x480 with 1 Axes>"
            ],
            "image/png": "[encoded data removed]"
          },
          "metadata": {}
        },
        {
          "output_type": "stream",
          "name": "stdout",
          "text": [
            "[3.4, 9.2, 18.4]\n",
            "plot\n",
            "[[ 5.01198563 18.15709228 17.99777764]\n",
            " [10.84066419  3.2984845  11.87939392]\n",
            " [ 8.71320836 13.49370223  6.596969  ]\n",
            " [10.69205312  7.29931504 19.41957775]\n",
            " [ 4.32666153 11.59655121 17.72907217]\n",
            " [ 6.17413962  9.20217366  9.70154627]\n",
            " [10.06578363  5.5027266   9.78365985]\n",
            " [11.84567432 15.33883959  4.28018691]\n",
            " [16.60481858  7.84091831 22.49711093]\n",
            " [21.02189335 14.42497834  8.71320836]\n",
            " [18.14166475 20.04195599  5.28393793]\n",
            " [ 2.7784888  15.92105524 16.60481858]\n",
            " [ 0.84852814 12.34827923 14.40555448]\n",
            " [23.47594514 11.81862936 16.47786394]\n",
            " [17.67257763 15.59743569  2.95296461]]\n",
            "[0. 1. 2. 1. 0. 0. 1. 2. 1. 2. 2. 0. 0. 1. 2.]\n",
            "[3.4, 9.2, 18.4]\n"
          ]
        },
        {
          "output_type": "display_data",
          "data": {
            "text/plain": [
              "<Figure size 640x480 with 1 Axes>"
            ],
            "image/png": "[encoded data removed]"
          },
          "metadata": {}
        },
        {
          "output_type": "stream",
          "name": "stdout",
          "text": [
            "[3.4, 9.2, 18.4]\n",
            "plot\n",
            "[[ 5.01198563 18.15709228 17.99777764]\n",
            " [10.84066419  3.2984845  11.87939392]\n",
            " [ 8.71320836 13.49370223  6.596969  ]\n",
            " [10.69205312  7.29931504 19.41957775]\n",
            " [ 4.32666153 11.59655121 17.72907217]\n",
            " [ 6.17413962  9.20217366  9.70154627]\n",
            " [10.06578363  5.5027266   9.78365985]\n",
            " [11.84567432 15.33883959  4.28018691]\n",
            " [16.60481858  7.84091831 22.49711093]\n",
            " [21.02189335 14.42497834  8.71320836]\n",
            " [18.14166475 20.04195599  5.28393793]\n",
            " [ 2.7784888  15.92105524 16.60481858]\n",
            " [ 0.84852814 12.34827923 14.40555448]\n",
            " [23.47594514 11.81862936 16.47786394]\n",
            " [17.67257763 15.59743569  2.95296461]]\n",
            "[0. 1. 2. 1. 0. 0. 1. 2. 1. 2. 2. 0. 0. 1. 2.]\n",
            "[3.4, 9.2, 18.4]\n"
          ]
        },
        {
          "output_type": "display_data",
          "data": {
            "text/plain": [
              "<Figure size 640x480 with 1 Axes>"
            ],
            "image/png": "[encoded data removed]"
          },
          "metadata": {}
        },
        {
          "output_type": "stream",
          "name": "stdout",
          "text": [
            "[3.4, 9.2, 18.4]\n",
            "plot\n",
            "[[ 5.01198563 18.15709228 17.99777764]\n",
            " [10.84066419  3.2984845  11.87939392]\n",
            " [ 8.71320836 13.49370223  6.596969  ]\n",
            " [10.69205312  7.29931504 19.41957775]\n",
            " [ 4.32666153 11.59655121 17.72907217]\n",
            " [ 6.17413962  9.20217366  9.70154627]\n",
            " [10.06578363  5.5027266   9.78365985]\n",
            " [11.84567432 15.33883959  4.28018691]\n",
            " [16.60481858  7.84091831 22.49711093]\n",
            " [21.02189335 14.42497834  8.71320836]\n",
            " [18.14166475 20.04195599  5.28393793]\n",
            " [ 2.7784888  15.92105524 16.60481858]\n",
            " [ 0.84852814 12.34827923 14.40555448]\n",
            " [23.47594514 11.81862936 16.47786394]\n",
            " [17.67257763 15.59743569  2.95296461]]\n",
            "[0. 1. 2. 1. 0. 0. 1. 2. 1. 2. 2. 0. 0. 1. 2.]\n",
            "[3.4, 9.2, 18.4]\n"
          ]
        },
        {
          "output_type": "display_data",
          "data": {
            "text/plain": [
              "<Figure size 640x480 with 1 Axes>"
            ],
            "image/png": "[encoded data removed]"
          },
          "metadata": {}
        },
        {
          "output_type": "stream",
          "name": "stdout",
          "text": [
            "[3.4, 9.2, 18.4]\n",
            "plot\n"
          ]
        }
      ]
    }
  ]
}